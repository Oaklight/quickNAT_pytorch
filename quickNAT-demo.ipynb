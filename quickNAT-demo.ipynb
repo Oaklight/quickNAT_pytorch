{
 "cells": [
  {
   "cell_type": "code",
   "execution_count": 1,
   "metadata": {},
   "outputs": [],
   "source": [
    "import nibabel as nb\n",
    "import matplotlib.pyplot as plt\n",
    "import glob, os\n",
    "import numpy as np"
   ]
  },
  {
   "cell_type": "code",
   "execution_count": 1,
   "metadata": {},
   "outputs": [],
   "source": [
    "folder_path = \"/vol/ml/pding/quickNAT_pytorch/datasets/OASIS/\""
   ]
  },
  {
   "cell_type": "code",
   "execution_count": 27,
   "metadata": {
    "collapsed": true,
    "jupyter": {
     "outputs_hidden": true
    }
   },
   "outputs": [
    {
     "name": "stdout",
     "output_type": "stream",
     "text": [
      "[ 0.  1.  2.  3.  4.  5.  6.  7.  8.  9. 10. 11. 12. 13. 14. 15. 16. 17.\n",
      " 18. 19. 20. 21. 22. 23. 24. 25. 26. 27. 28. 29. 30. 31. 32.]\n",
      "[ 0.  1.  2.  3.  4.  5.  6.  7.  8.  9. 10. 11. 12. 13. 14. 15. 16. 17.\n",
      " 18. 19. 20. 21. 22. 23. 24. 25. 26. 27. 28. 29. 30. 31. 32.]\n"
     ]
    }
   ],
   "source": [
    "print(unique_mal)\n",
    "print(unique_nor)"
   ]
  },
  {
   "cell_type": "markdown",
   "metadata": {},
   "source": [
    "## get the freesurfer label and numerical mapping"
   ]
  },
  {
   "cell_type": "code",
   "execution_count": 5,
   "metadata": {},
   "outputs": [],
   "source": [
    "with open(\"/vol/ml/ngetty/oasis/fs_idx2label.csv\", 'r') as f:\n",
    "    raw_pairs = [each.split(',') for each in f.read().splitlines()]\n",
    "    fs_idx_label = {int(each[0]) : each[1] for each in raw_pairs }\n",
    "\n",
    "with open(\"/vol/ml/ngetty/oasis/anat_vocab_full.txt\", 'r') as f:\n",
    "    raw_pairs = [each.split() for each in f.read().splitlines()]\n",
    "    fs_idx_idx = {int(each[1]) : int(each[0]) for each in raw_pairs}\n",
    "\n",
    "idx_label = {}\n",
    "idx_label[0] = 'background'\n",
    "for key, value in fs_idx_idx.items():\n",
    "    idx_label[key] = fs_idx_label[value]"
   ]
  },
  {
   "cell_type": "code",
   "execution_count": 12,
   "metadata": {
    "scrolled": true
   },
   "outputs": [
    {
     "data": {
      "text/plain": [
       "['background',\n",
       " 'lh_thalamus',\n",
       " 'lh_caudate',\n",
       " 'lh_putamen',\n",
       " 'lh_pallidum',\n",
       " 'lh_hippocampus',\n",
       " 'lh_amygdala',\n",
       " 'lh_acumbens',\n",
       " 'rh_thalamus',\n",
       " 'rh_caudate',\n",
       " 'rh_putamen',\n",
       " 'rh_pallidum',\n",
       " 'rh_hippocampus',\n",
       " 'rh_amygdala',\n",
       " 'rh_acumbens',\n",
       " 'lh.bankssts',\n",
       " 'lh.caudalanteriorcingulate',\n",
       " 'lh.caudalmiddlefrontal',\n",
       " 'lh.cuneus',\n",
       " 'lh.entorhinal',\n",
       " 'lh.fusiform',\n",
       " 'lh.inferiorparietal',\n",
       " 'lh.inferiortemporal',\n",
       " 'lh.isthmuscingulate',\n",
       " 'lh.lateraloccipital',\n",
       " 'lh.lateralorbitofrontal',\n",
       " 'lh.lingual',\n",
       " 'lh.medialorbitofrontal',\n",
       " 'lh.middletemporal',\n",
       " 'lh.parahippocampal',\n",
       " 'lh.paracentral',\n",
       " 'lh.parsopercularis',\n",
       " 'lh.parsorbitalis',\n",
       " 'lh.parstriangularis',\n",
       " 'lh.pericalcarine',\n",
       " 'lh.postcentral',\n",
       " 'lh.posteriorcingulate',\n",
       " 'lh.precentral',\n",
       " 'lh.precuneus',\n",
       " 'lh.rostralanteriorcingulate',\n",
       " 'lh.rostralmiddlefrontal',\n",
       " 'lh.superiorfrontal',\n",
       " 'lh.superiorparietal',\n",
       " 'lh.superiortemporal',\n",
       " 'lh.supramarginal',\n",
       " 'lh.frontalpole',\n",
       " 'lh.temporalpole',\n",
       " 'lh.transversetemporal',\n",
       " 'lh.insula',\n",
       " 'rh.bankssts',\n",
       " 'rh.caudalanteriorcingulate',\n",
       " 'rh.caudalmiddlefrontal',\n",
       " 'rh.cuneus',\n",
       " 'rh.entorhinal',\n",
       " 'rh.fusiform',\n",
       " 'rh.inferiorparietal',\n",
       " 'rh.inferiortemporal',\n",
       " 'rh.isthmuscingulate',\n",
       " 'rh.lateraloccipital',\n",
       " 'rh.lateralorbitofrontal',\n",
       " 'rh.lingual',\n",
       " 'rh.medialorbitofrontal',\n",
       " 'rh.middletemporal',\n",
       " 'rh.parahippocampal',\n",
       " 'rh.paracentral',\n",
       " 'rh.parsopercularis',\n",
       " 'rh.parsorbitalis',\n",
       " 'rh.parstriangularis',\n",
       " 'rh.pericalcarine',\n",
       " 'rh.postcentral',\n",
       " 'rh.posteriorcingulate',\n",
       " 'rh.precentral',\n",
       " 'rh.precuneus',\n",
       " 'rh.rostralanteriorcingulate',\n",
       " 'rh.rostralmiddlefrontal',\n",
       " 'rh.superiorfrontal',\n",
       " 'rh.superiorparietal',\n",
       " 'rh.superiortemporal',\n",
       " 'rh.supramarginal',\n",
       " 'rh.frontalpole',\n",
       " 'rh.temporalpole',\n",
       " 'rh.transversetemporal',\n",
       " 'rh.insula']"
      ]
     },
     "execution_count": 12,
     "metadata": {},
     "output_type": "execute_result"
    }
   ],
   "source": [
    "list(idx_label.values())"
   ]
  },
  {
   "cell_type": "markdown",
   "metadata": {},
   "source": [
    "# Pre-train"
   ]
  },
  {
   "cell_type": "code",
   "execution_count": 13,
   "metadata": {},
   "outputs": [],
   "source": [
    "from settings import Settings\n",
    "settings = Settings()\n",
    "\n",
    "common_params, data_params, net_params, train_params, eval_params = settings['COMMON'], settings['DATA'], settings[\n",
    "        'NETWORK'], settings['TRAINING'], settings['EVAL']"
   ]
  },
  {
   "cell_type": "code",
   "execution_count": 14,
   "metadata": {
    "scrolled": true
   },
   "outputs": [
    {
     "data": {
      "text/plain": [
       "{'save_model_dir': 'saved_models',\n",
       " 'model_name': 'quicknat',\n",
       " 'log_dir': 'logs',\n",
       " 'device': 0,\n",
       " 'exp_dir': 'experiments'}"
      ]
     },
     "execution_count": 14,
     "metadata": {},
     "output_type": "execute_result"
    }
   ],
   "source": [
    "common_params"
   ]
  },
  {
   "cell_type": "code",
   "execution_count": 15,
   "metadata": {
    "scrolled": true
   },
   "outputs": [
    {
     "data": {
      "text/plain": [
       "({'data_dir': 'datasets/OASIS/axial',\n",
       "  'train_data_file': 'Data_train.h5',\n",
       "  'train_label_file': 'Label_train.h5',\n",
       "  'train_class_weights_file': 'Class_Weight_train.h5',\n",
       "  'train_weights_file': 'Weight_train.h5',\n",
       "  'test_data_file': 'Data_test.h5',\n",
       "  'test_label_file': 'Label_test.h5',\n",
       "  'test_class_weights_file': 'Class_Weight_test.h5',\n",
       "  'test_weights_file': 'Weight_test.h5',\n",
       "  'labels': ['background',\n",
       "   'lh_thalamus',\n",
       "   'lh_caudate',\n",
       "   'lh_putamen',\n",
       "   'lh_pallidum',\n",
       "   'lh_hippocampus',\n",
       "   'lh_amygdala',\n",
       "   'lh_acumbens',\n",
       "   'rh_thalamus',\n",
       "   'rh_caudate',\n",
       "   'rh_putamen',\n",
       "   'rh_pallidum',\n",
       "   'rh_hippocampus',\n",
       "   'rh_amygdala',\n",
       "   'rh_acumbens',\n",
       "   'lh.bankssts',\n",
       "   'lh.caudalanteriorcingulate',\n",
       "   'lh.caudalmiddlefrontal',\n",
       "   'lh.cuneus',\n",
       "   'lh.entorhinal',\n",
       "   'lh.fusiform',\n",
       "   'lh.inferiorparietal',\n",
       "   'lh.inferiortemporal',\n",
       "   'lh.isthmuscingulate',\n",
       "   'lh.lateraloccipital',\n",
       "   'lh.lateralorbitofrontal',\n",
       "   'lh.lingual',\n",
       "   'lh.medialorbitofrontal',\n",
       "   'lh.middletemporal',\n",
       "   'lh.parahippocampal',\n",
       "   'lh.paracentral',\n",
       "   'lh.parsopercularis',\n",
       "   'lh.parsorbitalis',\n",
       "   'lh.parstriangularis',\n",
       "   'lh.pericalcarine',\n",
       "   'lh.postcentral',\n",
       "   'lh.posteriorcingulate',\n",
       "   'lh.precentral',\n",
       "   'lh.precuneus',\n",
       "   'lh.rostralanteriorcingulate',\n",
       "   'lh.rostralmiddlefrontal',\n",
       "   'lh.superiorfrontal',\n",
       "   'lh.superiorparietal',\n",
       "   'lh.superiortemporal',\n",
       "   'lh.supramarginal',\n",
       "   'lh.frontalpole',\n",
       "   'lh.temporalpole',\n",
       "   'lh.transversetemporal',\n",
       "   'lh.insula',\n",
       "   'rh.bankssts',\n",
       "   'rh.caudalanteriorcingulate',\n",
       "   'rh.caudalmiddlefrontal',\n",
       "   'rh.cuneus',\n",
       "   'rh.entorhinal',\n",
       "   'rh.fusiform',\n",
       "   'rh.inferiorparietal',\n",
       "   'rh.inferiortemporal',\n",
       "   'rh.isthmuscingulate',\n",
       "   'rh.lateraloccipital',\n",
       "   'rh.lateralorbitofrontal',\n",
       "   'rh.lingual',\n",
       "   'rh.medialorbitofrontal',\n",
       "   'rh.middletemporal',\n",
       "   'rh.parahippocampal',\n",
       "   'rh.paracentral',\n",
       "   'rh.parsopercularis',\n",
       "   'rh.parsorbitalis',\n",
       "   'rh.parstriangularis',\n",
       "   'rh.pericalcarine',\n",
       "   'rh.postcentral',\n",
       "   'rh.posteriorcingulate',\n",
       "   'rh.precentral',\n",
       "   'rh.precuneus',\n",
       "   'rh.rostralanteriorcingulate',\n",
       "   'rh.rostralmiddlefrontal',\n",
       "   'rh.superiorfrontal',\n",
       "   'rh.superiorparietal',\n",
       "   'rh.superiortemporal',\n",
       "   'rh.supramarginal',\n",
       "   'rh.frontalpole',\n",
       "   'rh.temporalpole',\n",
       "   'rh.transversetemporal',\n",
       "   'rh.insula']},\n",
       " {'num_class': 83,\n",
       "  'num_channels': 1,\n",
       "  'num_filters': 64,\n",
       "  'kernel_h': 5,\n",
       "  'kernel_w': 5,\n",
       "  'kernel_c': 1,\n",
       "  'stride_conv': 1,\n",
       "  'pool': 2,\n",
       "  'stride_pool': 2,\n",
       "  'se_block': 'CSSE',\n",
       "  'drop_out': 0})"
      ]
     },
     "execution_count": 15,
     "metadata": {},
     "output_type": "execute_result"
    }
   ],
   "source": [
    "data_params, net_params"
   ]
  },
  {
   "cell_type": "code",
   "execution_count": null,
   "metadata": {},
   "outputs": [],
   "source": [
    "from run import train\n",
    "\n",
    "train(train_params, common_params, data_params, net_params)"
   ]
  },
  {
   "cell_type": "code",
   "execution_count": null,
   "metadata": {},
   "outputs": [],
   "source": [
    "## Convert OASIS Data Path"
   ]
  },
  {
   "cell_type": "code",
   "execution_count": null,
   "metadata": {},
   "outputs": [],
   "source": []
  },
  {
   "cell_type": "code",
   "execution_count": 25,
   "metadata": {},
   "outputs": [],
   "source": [
    "def load_path_img_label(path_to_dataset):\n",
    "    '''\n",
    "    This function receives the \"path_to_dataset\" which should contain both the \n",
    "    NIFTI format data for both brain images and corresponding labels\n",
    "    return the collections of path_to_file, a list with each entry contains: \n",
    "        [0] path to *.nii.gz brain image\n",
    "        [1] path to *.nii.gz brain label\n",
    "    '''\n",
    "    path_to_imgs = os.path.join(path_to_dataset, \"*_brain.nii.gz\")\n",
    "    path_to_labels = os.path.join(path_to_dataset, \"*_labels.nii.gz\")\n",
    "    labels = glob.glob(path_to_labels)\n",
    "    images = glob.glob(path_to_imgs)\n",
    "    labels.sort()\n",
    "    images.sort()\n",
    "    return tuple(zip(images, labels))"
   ]
  },
  {
   "cell_type": "code",
   "execution_count": 26,
   "metadata": {},
   "outputs": [
    {
     "name": "stdout",
     "output_type": "stream",
     "text": [
      "[('/vol/ml/ngetty/oasis/segmented/OAS30010_MR_d0068_brain.nii.gz', '/vol/ml/ngetty/oasis/segmented/OAS30010_MR_d0068_labels.nii.gz'), ('/vol/ml/ngetty/oasis/segmented/OAS30011_MR_d0055_brain.nii.gz', '/vol/ml/ngetty/oasis/segmented/OAS30011_MR_d0055_labels.nii.gz'), ('/vol/ml/ngetty/oasis/segmented/OAS30011_MR_d1671_brain.nii.gz', '/vol/ml/ngetty/oasis/segmented/OAS30011_MR_d1671_labels.nii.gz'), ('/vol/ml/ngetty/oasis/segmented/OAS30012_MR_d0124_brain.nii.gz', '/vol/ml/ngetty/oasis/segmented/OAS30012_MR_d0124_labels.nii.gz')]\n"
     ]
    }
   ],
   "source": [
    "paths_to_imgs_labels = load_path_img_label(folder_path)\n",
    "print(paths_to_imgs_labels[:4])\n",
    "\n",
    "total_len = len(paths_to_imgs_labels)"
   ]
  },
  {
   "cell_type": "markdown",
   "metadata": {},
   "source": [
    "## Divide into training and validation set"
   ]
  },
  {
   "cell_type": "code",
   "execution_count": 24,
   "metadata": {},
   "outputs": [],
   "source": [
    "train_ratio = .98\n",
    "valid_ratio = 1 - train_ratio\n",
    "\n",
    "train_len = int(train_ratio * total_len)\n",
    "valid_len = total_len - train_len\n",
    "\n",
    "train_idx = np.random.choice(total_len, train_len, replace=False)\n",
    "valid_idx = np.array([i for i in range(total_len) if i not in train_idx])\n",
    "\n",
    "train_file_paths = [paths_to_imgs_labels[i] for i in train_idx]\n",
    "valid_file_paths = [paths_to_imgs_labels[i] for i in valid_idx]"
   ]
  },
  {
   "cell_type": "markdown",
   "metadata": {},
   "source": [
    "## preprocess the nifti data into different perspective and store into h5 file"
   ]
  },
  {
   "cell_type": "code",
   "execution_count": 4,
   "metadata": {},
   "outputs": [
    {
     "name": "stdout",
     "output_type": "stream",
     "text": [
      "/vol/ml/pding/quickNAT_pytorch\n"
     ]
    }
   ],
   "source": [
    "!pwd"
   ]
  },
  {
   "cell_type": "code",
   "execution_count": 3,
   "metadata": {
    "collapsed": true,
    "jupyter": {
     "outputs_hidden": true
    }
   },
   "outputs": [
    {
     "name": "stdout",
     "output_type": "stream",
     "text": [
      "* Start *\n",
      "Total no of volumes to process : 1585\n",
      "Train dataset size: 1553, Test dataset size: 32\n",
      "===Train data===\n",
      "Loading and preprocessing data...\n",
      "#########^C\n",
      "Traceback (most recent call last):\n",
      "  File \"utils/convert_h5.py\", line 119, in <module>\n",
      "    args.orientation)\n",
      "  File \"utils/convert_h5.py\", line 64, in convert_h5\n",
      "    remove_black=True)\n",
      "  File \"/vol/ml/pding/quickNAT_pytorch/utils/data_utils.py\", line 87, in load_dataset\n",
      "    return_weights=return_weights)\n",
      "  File \"/vol/ml/pding/quickNAT_pytorch/utils/data_utils.py\", line 120, in load_and_preprocess\n",
      "    return_weights=return_weights)\n",
      "  File \"/vol/ml/pding/quickNAT_pytorch/utils/data_utils.py\", line 140, in preprocess\n",
      "    volume, labelmap = preprocessor.reduce_slices(volume, labelmap)\n",
      "  File \"/vol/ml/pding/quickNAT_pytorch/utils/preprocessor.py\", line 74, in reduce_slices\n",
      "    data_reduced = np.compress(mask_vector, data, axis=0).reshape(-1, H, W)\n",
      "  File \"<__array_function__ internals>\", line 6, in compress\n",
      "  File \"/vol/ml/pding/miniconda3/lib/python3.6/site-packages/numpy/core/fromnumeric.py\", line 1967, in compress\n",
      "    return _wrapfunc(a, 'compress', condition, axis=axis, out=out)\n",
      "  File \"/vol/ml/pding/miniconda3/lib/python3.6/site-packages/numpy/core/fromnumeric.py\", line 61, in _wrapfunc\n",
      "    return bound(*args, **kwds)\n",
      "KeyboardInterrupt\n"
     ]
    }
   ],
   "source": [
    "# Sagittal view\n",
    "!python utils/convert_h5.py -dd /vol/ml/ngetty/oasis/segmented/ -ld /vol/ml/ngetty/oasis/segmented/ -ds 98,2 -rc FS -o SAG -df datasets/OASIS/sagittal/"
   ]
  },
  {
   "cell_type": "code",
   "execution_count": null,
   "metadata": {
    "collapsed": true,
    "jupyter": {
     "outputs_hidden": true
    }
   },
   "outputs": [
    {
     "name": "stdout",
     "output_type": "stream",
     "text": [
      "* Start *\n",
      "Total no of volumes to process : 1585\n",
      "Train dataset size: 1553, Test dataset size: 32\n",
      "===Train data===\n",
      "Loading and preprocessing data...\n"
     ]
    }
   ],
   "source": [
    "# Coronal view\n",
    "!python utils/convert_h5.py -dd /vol/ml/ngetty/oasis/segmented/ -ld /vol/ml/ngetty/oasis/segmented/ -ds 98,2 -rc FS -o COR -df datasets/OASIS/coronal/"
   ]
  },
  {
   "cell_type": "code",
   "execution_count": 5,
   "metadata": {},
   "outputs": [
    {
     "name": "stdout",
     "output_type": "stream",
     "text": [
      "^C\n",
      "Traceback (most recent call last):\n",
      "  File \"utils/convert_h5.py\", line 15, in <module>\n",
      "    import data_utils as du\n",
      "  File \"/vol/ml/pding/quickNAT_pytorch/utils/data_utils.py\", line 4, in <module>\n",
      "    import nibabel as nb\n",
      "  File \"/vol/ml/pding/miniconda3/lib/python3.6/site-packages/nibabel/__init__.py\", line 93, in <module>\n",
      "    from . import streamlines\n",
      "  File \"/vol/ml/pding/miniconda3/lib/python3.6/site-packages/nibabel/streamlines/__init__.py\", line 12, in <module>\n",
      "    from .trk import TrkFile\n",
      "  File \"<frozen importlib._bootstrap>\", line 971, in _find_and_load\n",
      "  File \"<frozen importlib._bootstrap>\", line 955, in _find_and_load_unlocked\n",
      "  File \"<frozen importlib._bootstrap>\", line 665, in _load_unlocked\n",
      "  File \"<frozen importlib._bootstrap_external>\", line 674, in exec_module\n",
      "  File \"<frozen importlib._bootstrap_external>\", line 779, in get_code\n",
      "  File \"<frozen importlib._bootstrap_external>\", line 487, in _compile_bytecode\n",
      "KeyboardInterrupt\n"
     ]
    }
   ],
   "source": [
    "# Axial view\n",
    "!python utils/convert_h5.py -dd /vol/ml/ngetty/oasis/segmented/ -ld /vol/ml/ngetty/oasis/segmented/ -ds 98,2 -rc FS -o AXI -df datasets/OASIS/axial/"
   ]
  },
  {
   "cell_type": "markdown",
   "metadata": {},
   "source": [
    "## Train the model"
   ]
  },
  {
   "cell_type": "code",
   "execution_count": 2,
   "metadata": {},
   "outputs": [
    {
     "name": "stdout",
     "output_type": "stream",
     "text": [
      "Traceback (most recent call last):\n",
      "  File \"run.py\", line 7, in <module>\n",
      "    from quicknat import QuickNat\n",
      "  File \"/vol/ml/pding/quickNAT_pytorch/quicknat.py\", line 5, in <module>\n",
      "    from nn_common_modules import modules as sm\n",
      "ModuleNotFoundError: No module named 'nn_common_modules'\n"
     ]
    }
   ],
   "source": [
    "!python run.py --mode=train"
   ]
  },
  {
   "cell_type": "code",
   "execution_count": null,
   "metadata": {},
   "outputs": [],
   "source": []
  },
  {
   "cell_type": "code",
   "execution_count": null,
   "metadata": {},
   "outputs": [],
   "source": []
  }
 ],
 "metadata": {
  "kernelspec": {
   "display_name": "Python 3",
   "language": "python",
   "name": "python3"
  },
  "language_info": {
   "codemirror_mode": {
    "name": "ipython",
    "version": 3
   },
   "file_extension": ".py",
   "mimetype": "text/x-python",
   "name": "python",
   "nbconvert_exporter": "python",
   "pygments_lexer": "ipython3",
   "version": "3.6.9"
  }
 },
 "nbformat": 4,
 "nbformat_minor": 4
}
